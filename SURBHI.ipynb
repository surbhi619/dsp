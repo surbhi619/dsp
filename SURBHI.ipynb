{
 "cells": [
  {
   "cell_type": "code",
   "execution_count": null,
   "metadata": {
    "scrolled": true
   },
   "outputs": [],
   "source": [
    "#ANS-3\n",
    "import matplotlib.pyplot as p\n",
    "import numpy as n\n",
    "x = [-2.5, -1.5, -0.5, 0.5, 1.5, 2.5]\n",
    "y = [19, 21, 18, 2, 8, 9]\n",
    "\n",
    "p.stem(x, y)"
   ]
  },
  {
   "cell_type": "code",
   "execution_count": null,
   "metadata": {},
   "outputs": [],
   "source": [
    "x = n.array([19, 21, 18, 2, 8, 9])\n",
    "N = (len(x)-1)/2 \n",
    "\n",
    "n = n.array([i for i in n.arange(-N, N+1)]) \n",
    "len(x),N,n"
   ]
  },
  {
   "cell_type": "code",
   "execution_count": null,
   "metadata": {},
   "outputs": [],
   "source": [
    "L = []         \n",
    "l = []\n",
    "tim = [i for i in n.linspace(-N, N, 1000)] \n",
    "n = n.arange(-N, N+1)\n",
    "for i in n:   \n",
    "    for t in tim:\n",
    "        term = 1\n",
    "        for k in np.arange(-N, N+1):\n",
    "            if k!=i:\n",
    "                term = term*((t-k)/(i-k))   \n",
    "        l.append(term)        \n",
    "    L.append(l)     \n",
    "    l=[]\n",
    "\n",
    "    \n",
    "for i in range(len(L)):\n",
    "p.plot(tim, L[i])\n",
    "p.show()"
   ]
  },
  {
   "cell_type": "code",
   "execution_count": null,
   "metadata": {},
   "outputs": [],
   "source": [
    "#ANS-1\n",
    "import matplotlib.pyplot as p\n",
    "import numpy as np\n",
    "\n",
    "w1 = [5* np.sin(2*np.pi*19*t) for t in np.linspace(0,1,1000)]\n",
    "w2 = [5* np.cos(2*np.pi*6*t) for t in np.linspace(0,1,1000)]\n",
    "w3 = [5* np.sin(2*np.pi*2000*t) for t in np.linspace(0,1,1000)]\n",
    "sig=[]\n",
    "\n",
    "for i,j,k in zip(w1,w2,w3):\n",
    "    sig.append(i+j+k)\n",
    "    \n",
    "\n",
    "gt = np.fft.fft(sig)\n",
    "p.plot(gt)"
   ]
  },
  {
   "cell_type": "code",
   "execution_count": null,
   "metadata": {},
   "outputs": [],
   "source": [
    "#ANS4\n",
    "import thinkdsp as t\n",
    "import thinkplot as d\n",
    "from IPython.display import Audio\n",
    "\n",
    "sample = t.read_wave('noise.wav')\n",
    "sample = t.play_wave('noise.wav')\n",
    "sample"
   ]
  },
  {
   "cell_type": "code",
   "execution_count": null,
   "metadata": {},
   "outputs": [],
   "source": [
    "spectrum = sample.make_spectrum()\n",
    "spectrum.plot()\n",
    "d.show()"
   ]
  },
  {
   "cell_type": "code",
   "execution_count": null,
   "metadata": {},
   "outputs": [],
   "source": [
    "noise = spectrum.low_pass(cutoff = 200)\n",
    "spectrum.plot()\n",
    "d.show()"
   ]
  }
 ],
 "metadata": {
  "kernelspec": {
   "display_name": "Python 3",
   "language": "python",
   "name": "python3"
  },
  "language_info": {
   "codemirror_mode": {
    "name": "ipython",
    "version": 3
   },
   "file_extension": ".py",
   "mimetype": "text/x-python",
   "name": "python",
   "nbconvert_exporter": "python",
   "pygments_lexer": "ipython3",
   "version": "3.7.4"
  }
 },
 "nbformat": 4,
 "nbformat_minor": 2
}
